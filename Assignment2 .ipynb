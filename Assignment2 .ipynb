{
 "cells": [
  {
   "cell_type": "code",
   "execution_count": 10,
   "id": "e7ce7dba",
   "metadata": {},
   "outputs": [
    {
     "data": {
      "text/plain": [
       "'The value of the boolean types are TRUE and FALSE. Writtens as TRUE and FALSE'"
      ]
     },
     "execution_count": 10,
     "metadata": {},
     "output_type": "execute_result"
    }
   ],
   "source": [
    "# What are the two values of the Boolean data type? How do you write them?\n",
    "\"The value of the boolean types are TRUE and FALSE. Writtens as TRUE and FALSE\""
   ]
  },
  {
   "cell_type": "code",
   "execution_count": 9,
   "id": "686e1b03",
   "metadata": {},
   "outputs": [],
   "source": [
    "# What are the three different types of Boolean operators?\n",
    "\"The three types are 'AND' , 'NOT' and 'OR'\"\""
   ]
  },
  {
   "cell_type": "code",
   "execution_count": null,
   "id": "850b4358",
   "metadata": {},
   "outputs": [],
   "source": [
    "#Make a list of each Boolean operator's truth tables (i.e. every possible combination of Boolean values for the operator and what it evaluate)\n",
    "## Please find a link attached for the boolean operator in .pdf form ."
   ]
  },
  {
   "cell_type": "code",
   "execution_count": null,
   "id": "cfbc8807",
   "metadata": {},
   "outputs": [],
   "source": [
    "# What are the values of the following expressions?"
   ]
  },
  {
   "cell_type": "code",
   "execution_count": 11,
   "id": "25756334",
   "metadata": {},
   "outputs": [
    {
     "name": "stdout",
     "output_type": "stream",
     "text": [
      "False\n"
     ]
    }
   ],
   "source": [
    "print((5 > 4) and (3 == 5))"
   ]
  },
  {
   "cell_type": "code",
   "execution_count": 15,
   "id": "b7a17c70",
   "metadata": {},
   "outputs": [
    {
     "name": "stdout",
     "output_type": "stream",
     "text": [
      "False\n"
     ]
    }
   ],
   "source": [
    "print(not(5>4))"
   ]
  },
  {
   "cell_type": "code",
   "execution_count": 16,
   "id": "0ca69d09",
   "metadata": {},
   "outputs": [
    {
     "name": "stdout",
     "output_type": "stream",
     "text": [
      "False\n"
     ]
    }
   ],
   "source": [
    "print(not ((5 > 4) or (3 == 5)))"
   ]
  },
  {
   "cell_type": "code",
   "execution_count": 17,
   "id": "c75e0e9f",
   "metadata": {},
   "outputs": [
    {
     "data": {
      "text/plain": [
       "False"
      ]
     },
     "execution_count": 17,
     "metadata": {},
     "output_type": "execute_result"
    }
   ],
   "source": [
    "(True and True) and (True == False)"
   ]
  },
  {
   "cell_type": "code",
   "execution_count": 18,
   "id": "01177eaa",
   "metadata": {},
   "outputs": [
    {
     "data": {
      "text/plain": [
       "True"
      ]
     },
     "execution_count": 18,
     "metadata": {},
     "output_type": "execute_result"
    }
   ],
   "source": [
    "(not False) or (not True)"
   ]
  },
  {
   "cell_type": "code",
   "execution_count": 21,
   "id": "24dccca2",
   "metadata": {},
   "outputs": [
    {
     "data": {
      "text/plain": [
       "' They  == (equal to) , <= (less than or equal to) , >= (Greater than or equal to), , != (not equal to), < ( less than), > (greater than)'"
      ]
     },
     "execution_count": 21,
     "metadata": {},
     "output_type": "execute_result"
    }
   ],
   "source": [
    "# What are the six comparison operators?\n",
    "\" They  == (equal to) , <= (less than or equal to) , >= (Greater than or equal to), , != (not equal to), < ( less than), > (greater than)\""
   ]
  },
  {
   "cell_type": "code",
   "execution_count": null,
   "id": "59602cb8",
   "metadata": {},
   "outputs": [],
   "source": [
    "# How do you tell the difference between the equal to and assignment operators? Describe a condition and when you would use one\n",
    "\" The equal to has two equal sign and is used to test equality while the = is for assignment\"."
   ]
  },
  {
   "cell_type": "code",
   "execution_count": 22,
   "id": "e751e5e2",
   "metadata": {},
   "outputs": [
    {
     "name": "stdout",
     "output_type": "stream",
     "text": [
      "ham\n",
      "spam\n",
      "spam\n"
     ]
    }
   ],
   "source": [
    "# Identify the three blocks in this code:\n",
    "spam = 0\n",
    "if spam == 10:\n",
    "    print('eggs')\n",
    "if spam > 5:\n",
    "    print('bacon')\n",
    "else:\n",
    "    print('ham')\n",
    "    print('spam')\n",
    "    print('spam')\n"
   ]
  },
  {
   "cell_type": "code",
   "execution_count": 25,
   "id": "662135f9",
   "metadata": {},
   "outputs": [
    {
     "name": "stdout",
     "output_type": "stream",
     "text": [
      "Greetings!\n"
     ]
    }
   ],
   "source": [
    "# Write code that prints Hello if 1 is stored in spam, prints Howdy if 2 is stored in spam, and prints Greetings! if anything else is stored in spam.\n",
    "\n",
    "def greetings(spam):\n",
    "    if(spam == 1):\n",
    "        print(\"Hello\")\n",
    "    elif(spam == 2): \n",
    "        print(\"Howdy\")\n",
    "    else:\n",
    "        print(\"Greetings!\")\n"
   ]
  },
  {
   "cell_type": "code",
   "execution_count": null,
   "id": "5eec164c",
   "metadata": {},
   "outputs": [],
   "source": [
    "# If your programme is stuck in an endless loop, what keys you’ll press? \n",
    "\"I would press CTRl+ C  then it would end the loop \""
   ]
  },
  {
   "cell_type": "code",
   "execution_count": null,
   "id": "8bc98225",
   "metadata": {},
   "outputs": [],
   "source": [
    "# How can you tell the difference between break and continue?\n",
    "\"With a break it stops the program from execute when the specific condition is met \"\n",
    "\"While continue skips over that specific condition when it is met\""
   ]
  },
  {
   "cell_type": "code",
   "execution_count": null,
   "id": "bdd013b2",
   "metadata": {},
   "outputs": [],
   "source": [
    "# In a for loop, what is the difference between range(10), range(0, 10), and range(0, 10, 1)?"
   ]
  },
  {
   "cell_type": "code",
   "execution_count": 26,
   "id": "cfb8baa6",
   "metadata": {},
   "outputs": [
    {
     "name": "stdout",
     "output_type": "stream",
     "text": [
      "This is the range 10  0\n",
      "This is the range 10  1\n",
      "This is the range 10  2\n",
      "This is the range 10  3\n",
      "This is the range 10  4\n",
      "This is the range 10  5\n",
      "This is the range 10  6\n",
      "This is the range 10  7\n",
      "This is the range 10  8\n",
      "This is the range 10  9\n"
     ]
    }
   ],
   "source": [
    "# First One \n",
    "for i in range(10):\n",
    "    print(\"This is the range 10 \", i)"
   ]
  },
  {
   "cell_type": "code",
   "execution_count": 27,
   "id": "84e19b04",
   "metadata": {},
   "outputs": [
    {
     "name": "stdout",
     "output_type": "stream",
     "text": [
      "This is the range(0,10)  0\n",
      "This is the range(0,10)  1\n",
      "This is the range(0,10)  2\n",
      "This is the range(0,10)  3\n",
      "This is the range(0,10)  4\n",
      "This is the range(0,10)  5\n",
      "This is the range(0,10)  6\n",
      "This is the range(0,10)  7\n",
      "This is the range(0,10)  8\n",
      "This is the range(0,10)  9\n"
     ]
    }
   ],
   "source": [
    "# Second One \n",
    "for i in range(0,10):\n",
    "    print(\"This is the range(0,10) \" , i)"
   ]
  },
  {
   "cell_type": "code",
   "execution_count": 28,
   "id": "00d93641",
   "metadata": {},
   "outputs": [
    {
     "name": "stdout",
     "output_type": "stream",
     "text": [
      "This is the range(0,10,1)  0\n",
      "This is the range(0,10,1)  1\n",
      "This is the range(0,10,1)  2\n",
      "This is the range(0,10,1)  3\n",
      "This is the range(0,10,1)  4\n",
      "This is the range(0,10,1)  5\n",
      "This is the range(0,10,1)  6\n",
      "This is the range(0,10,1)  7\n",
      "This is the range(0,10,1)  8\n",
      "This is the range(0,10,1)  9\n"
     ]
    }
   ],
   "source": [
    "# Third One \n",
    "for i in range(0,10,1):\n",
    "    print(\"This is the range(0,10,1) \" , i)\n"
   ]
  },
  {
   "cell_type": "code",
   "execution_count": 29,
   "id": "1914f465",
   "metadata": {},
   "outputs": [
    {
     "name": "stdout",
     "output_type": "stream",
     "text": [
      "This is the range 1-10  0\n",
      "This is the range 1-10  1\n",
      "This is the range 1-10  2\n",
      "This is the range 1-10  3\n",
      "This is the range 1-10  4\n",
      "This is the range 1-10  5\n",
      "This is the range 1-10  6\n",
      "This is the range 1-10  7\n",
      "This is the range 1-10  8\n",
      "This is the range 1-10  9\n",
      "This is the range 1-10  10\n"
     ]
    }
   ],
   "source": [
    "# Write a short program that prints the numbers 1 to 10 using a for loop. \n",
    "\n",
    "for i in range(0,11):\n",
    "    print(\"This is the range 1-10 \" , i )\n",
    "\n"
   ]
  },
  {
   "cell_type": "code",
   "execution_count": 30,
   "id": "d26cd1b7",
   "metadata": {},
   "outputs": [
    {
     "name": "stdout",
     "output_type": "stream",
     "text": [
      "This is the range to 10:  1\n",
      "This is the range to 10:  2\n",
      "This is the range to 10:  3\n",
      "This is the range to 10:  4\n",
      "This is the range to 10:  5\n",
      "This is the range to 10:  6\n",
      "This is the range to 10:  7\n",
      "This is the range to 10:  8\n",
      "This is the range to 10:  9\n",
      "This is the range to 10:  10\n"
     ]
    }
   ],
   "source": [
    "# Then write an equivalent program that prints the numbers 1 to 10 using a while loop.\n",
    "n = 0 \n",
    "while n < 10: \n",
    "    n+=1\n",
    "    print( \"This is the range to 10: \", n )\n"
   ]
  },
  {
   "cell_type": "code",
   "execution_count": 31,
   "id": "eb8ffa8d",
   "metadata": {},
   "outputs": [
    {
     "data": {
      "text/plain": [
       "'Answer: spam.bacon() '"
      ]
     },
     "execution_count": 31,
     "metadata": {},
     "output_type": "execute_result"
    }
   ],
   "source": [
    "# If a function name bacon inside a module name spam, how would you call it after importing spam. \n",
    "\"Answer: spam.bacon() \"\n",
    "\n"
   ]
  }
 ],
 "metadata": {
  "kernelspec": {
   "display_name": "Python 3",
   "language": "python",
   "name": "python3"
  },
  "language_info": {
   "codemirror_mode": {
    "name": "ipython",
    "version": 3
   },
   "file_extension": ".py",
   "mimetype": "text/x-python",
   "name": "python",
   "nbconvert_exporter": "python",
   "pygments_lexer": "ipython3",
   "version": "3.8.8"
  }
 },
 "nbformat": 4,
 "nbformat_minor": 5
}
